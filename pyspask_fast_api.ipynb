{
 "cells": [
  {
   "cell_type": "code",
   "execution_count": 1,
   "id": "117b754e",
   "metadata": {},
   "outputs": [],
   "source": [
    "## 필요한 라이브러리를 불러옵니다. \n",
    "import time\n",
    "import matplotlib.pyplot as plt\n",
    "import numpy as np \n",
    "import pandas as pd\n",
    "import redis\n",
    "from fastapi import FastAPI, File, UploadFile\n",
    "## pyspark를 불러옵니다.\n",
    "from pyspark import SparkContext"
   ]
  },
  {
   "cell_type": "code",
   "execution_count": 2,
   "id": "2a25ee9e",
   "metadata": {
    "scrolled": true
   },
   "outputs": [],
   "source": [
    "sc = SparkContext(master=\"local\", appName=\"first app\")"
   ]
  },
  {
   "cell_type": "code",
   "execution_count": 3,
   "id": "7669779a",
   "metadata": {},
   "outputs": [
    {
     "name": "stdout",
     "output_type": "stream",
     "text": [
      "/home\r\n"
     ]
    }
   ],
   "source": [
    "!pwd"
   ]
  },
  {
   "cell_type": "code",
   "execution_count": 4,
   "id": "55418d8f",
   "metadata": {},
   "outputs": [],
   "source": [
    "from PIL import Image\n",
    "\n",
    "\n",
    "path = './초기구상.png'\n",
    "\n",
    "image_pil = Image.open(path)\n",
    "image = np.array(image_pil)"
   ]
  },
  {
   "cell_type": "code",
   "execution_count": 7,
   "id": "6fc033f0",
   "metadata": {},
   "outputs": [
    {
     "data": {
      "text/plain": [
       "(0, 255)"
      ]
     },
     "execution_count": 7,
     "metadata": {},
     "output_type": "execute_result"
    }
   ],
   "source": [
    "np.min(image), np.max(image)\n"
   ]
  },
  {
   "cell_type": "code",
   "execution_count": 10,
   "id": "d338e950",
   "metadata": {},
   "outputs": [
    {
     "data": {
      "image/png": "[encoded data removed]",
      "text/plain": [
       "<Figure size 432x288 with 1 Axes>"
      ]
     },
     "metadata": {
      "needs_background": "light"
     },
     "output_type": "display_data"
    }
   ],
   "source": [
    "vector = plt.imshow(image)"
   ]
  },
  {
   "cell_type": "code",
   "execution_count": 11,
   "id": "101dc83e",
   "metadata": {},
   "outputs": [],
   "source": [
    "import io\n",
    "from starlette.responses import StreamingResponse\n",
    "\n",
    "app = FastAPI()\n",
    "\n",
    "@app.post(\"/vector_image\")\n",
    "def image_endpoint(*, vector):\n",
    "    # Returns a cv2 image array from the document vector\n",
    "    cv2img = my_function(vector)\n",
    "    res, im_png = cv2.imencode(\".png\", cv2img)\n",
    "    return StreamingResponse(io.BytesIO(im_png.tobytes()), media_type=\"image/png\")"
   ]
  },
  {
   "cell_type": "code",
   "execution_count": 12,
   "id": "348d753f",
   "metadata": {},
   "outputs": [
    {
     "ename": "AttributeError",
     "evalue": "'FastAPI' object has no attribute 'run'",
     "output_type": "error",
     "traceback": [
      "\u001b[0;31m---------------------------------------------------------------------------\u001b[0m",
      "\u001b[0;31mAttributeError\u001b[0m                            Traceback (most recent call last)",
      "\u001b[0;32m<ipython-input-12-b72f3165c8a5>\u001b[0m in \u001b[0;36m<module>\u001b[0;34m\u001b[0m\n\u001b[0;32m----> 1\u001b[0;31m \u001b[0mapp\u001b[0m\u001b[0;34m.\u001b[0m\u001b[0mrun\u001b[0m\u001b[0;34m(\u001b[0m\u001b[0;34m)\u001b[0m\u001b[0;34m\u001b[0m\u001b[0;34m\u001b[0m\u001b[0m\n\u001b[0m",
      "\u001b[0;31mAttributeError\u001b[0m: 'FastAPI' object has no attribute 'run'"
     ]
    }
   ],
   "source": [
    "app.run()"
   ]
  },
  {
   "cell_type": "code",
   "execution_count": null,
   "id": "1520bf04",
   "metadata": {},
   "outputs": [],
   "source": [
    "@app.post(\"/files/\")\n",
    "async def create_file(file: bytes = File(...)):\n",
    "    return {\"file_size\": len(file)}\n",
    "\n",
    "\n",
    "@app.post(\"/uploadfile/\")\n",
    "async def create_upload_file(file: UploadFile = File(...)):\n",
    "    return {\"filename\": file.filename}"
   ]
  },
  {
   "cell_type": "code",
   "execution_count": null,
   "id": "28c7ee13",
   "metadata": {},
   "outputs": [],
   "source": [
    "#app = Flask\n",
    "\n",
    "\n",
    "@app.route('/')\n",
    "def fig():\n",
    "    if sc is None: app = FastAPI()\n",
    "        sc = SparkContext(master=\"local\", appName=\"first app\")\n",
    "    else:\n",
    "        sc.stop()\n",
    "        sc = SparkContext(master=\"local\", appName=\"first app\")\n",
    "\n",
    "## 이미 spark context가 살아 있으면 죽이고, 있으면 그대로 사용합니다. \n",
    "## spark context는 한 번에 여러 개 돌리려면 세팅에 몇 개를 추가해야 한다.\n",
    "## 또한 스파크 컨텍스트를 제대로 구현하려면 여기에 넘겨야 하는 값들이 많이 있다. 하지만 간소하게 구현 \n",
    "    if sc is None: \n",
    "        sc = SparkContext(master=\"local\", appName=\"first app\")\n",
    "    else:\n",
    "        sc.stop()\n",
    "        sc = SparkContext(master=\"local\", appName=\"first app\")\n",
    "\n",
    "    ### peformance check \n",
    "    spark_time_lst = []\n",
    "    python_time_lst = []\n",
    "    python_np_time_lst = []\n",
    "    \n",
    "    n_lst = [20000*i for i in range(0, 10)]\n",
    "    \n",
    "    \n",
    "    for n in n_lst:\n",
    "        def each_k(k):\n",
    "            return 1/(16**k)*( 4/(8*k+1) - 2/(8*k+4) - 1/(8*k+5) - 1/(8*k+6))\n",
    "        ## with spark \n",
    "        start_time = time.time()\n",
    "        pi_approximated = sc.parallelize(range(0, n)).map(each_k).sum()\n",
    "        spark_time_lst.append(time.time()-start_time)\n",
    "        ## pure python\n",
    "        start_time = time.time()\n",
    "        pi_approximated = sum((each_k(k) for k in range(0, n)))\n",
    "        python_time_lst.append(time.time()-start_time)\n",
    "        ## with numpy \n",
    "        start_time = time.time()\n",
    "        pi_approximated = np.apply_along_axis(arr=np.array(range(0, 10)), func1d=each_k, axis=0).sum()\n",
    "        python_np_time_lst.append(time.time() - start_time)\n",
    "\n",
    "    ### plotting     \n",
    "    df = pd.DataFrame({\n",
    "        \"spark\":spark_time_lst.copy(), \n",
    "        \"pure python\":python_time_lst.copy(), \n",
    "        \"python with numpy\":python_np_time_lst.copy()\n",
    "    }, index = [20000*i for i in range(0, 10)])\n",
    "    plt.figure(figsize=(12, 6))\n",
    "    plt.plot(df['spark'], 'ro-'), plt.plot(df['pure python'], 'bo-'), plt.plot(df['python with numpy'], 'go-')\n",
    "    plt.legend(fontsize=25)\n",
    "    plt.xticks([20000*i for i in range(0, 10)], [20000*i for i in range(0, 10)])\n",
    "    img = ByteIO()\n",
    "    plt.savefig(img, format='png',dpi =200)\n",
    "    img.seek(0)\n",
    "    return send_file(img, mimetype='image/png')\n",
    "   # plt.show()\n",
    "if __name__ == '__main__':\n",
    "    app.run(debug=False)"
   ]
  }
 ],
 "metadata": {
  "kernelspec": {
   "display_name": "Python 3",
   "language": "python",
   "name": "python3"
  },
  "language_info": {
   "codemirror_mode": {
    "name": "ipython",
    "version": 3
   },
   "file_extension": ".py",
   "mimetype": "text/x-python",
   "name": "python",
   "nbconvert_exporter": "python",
   "pygments_lexer": "ipython3",
   "version": "3.9.4"
  }
 },
 "nbformat": 4,
 "nbformat_minor": 5
}
