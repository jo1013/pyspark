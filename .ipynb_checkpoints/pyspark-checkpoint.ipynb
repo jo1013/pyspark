{
 "cells": [
  {
   "cell_type": "code",
   "execution_count": 1,
   "id": "c0a46d13",
   "metadata": {},
   "outputs": [],
   "source": [
    "## 필요한 라이브러리를 불러옵니다. \n",
    "import time\n",
    "import matplotlib.pyplot as plt\n",
    "import numpy as np \n",
    "import pandas as pd\n",
    "#from flask import Flask, send_file\n",
    "#import redis\n",
    "from io import BytesIO\n",
    "## pyspark를 불러옵니다.\n",
    "from pyspark import SparkContext"
   ]
  },
  {
   "cell_type": "code",
   "execution_count": 2,
   "id": "2a0667aa",
   "metadata": {},
   "outputs": [],
   "source": [
    "#app = Flask(__name__, static_url_path='/static')"
   ]
  },
  {
   "cell_type": "code",
   "execution_count": 3,
   "id": "35a91057",
   "metadata": {
    "scrolled": true
   },
   "outputs": [],
   "source": [
    "#@app.route('/')\n",
    "\n",
    "\n",
    "\n",
    "def fig():\n",
    "    sc = SparkContext(master=\"local\", appName=\"first app\")\n",
    "    if sc is None: \n",
    "        sc = SparkContext(master=\"local\", appName=\"first app\")\n",
    "    else:\n",
    "        sc.stop()\n",
    "        sc = SparkContext(master=\"local\", appName=\"first app\")\n",
    "\n",
    "## 이미 spark context가 살아 있으면 죽이고, 있으면 그대로 사용합니다. \n",
    "## spark context는 한 번에 여러 개 돌리려면 세팅에 몇 개를 추가해야 한다.\n",
    "## 또한 스파크 컨텍스트를 제대로 구현하려면 여기에 넘겨야 하는 값들이 많이 있다. 하지만 간소하게 구현 \n",
    "    if sc is None: \n",
    "        sc = SparkContext(master=\"local\", appName=\"first app\")\n",
    "    else:\n",
    "        sc.stop()\n",
    "        sc = SparkContext(master=\"local\", appName=\"first app\")\n",
    "\n",
    "    ### peformance check \n",
    "    spark_time_lst = []\n",
    "    python_time_lst = []\n",
    "    python_np_time_lst = []\n",
    "    \n",
    "    n_lst = [5000*i for i in range(0, 10)]\n",
    "    \n",
    "    \n",
    "    for n in n_lst:\n",
    "        def each_k(k):\n",
    "            return 1/(16**k)*( 4/(8*k+1) - 2/(8*k+4) - 1/(8*k+5) - 1/(8*k+6))\n",
    "        ## with spark \n",
    "        start_time = time.time()\n",
    "        pi_approximated = sc.parallelize(range(0, n)).map(each_k).sum()\n",
    "        spark_time_lst.append(time.time()-start_time)\n",
    "        ## pure python\n",
    "        start_time = time.time()\n",
    "        pi_approximated = sum((each_k(k) for k in range(0, n)))\n",
    "        python_time_lst.append(time.time()-start_time)\n",
    "        ## with numpy \n",
    "        start_time = time.time()\n",
    "        pi_approximated = np.apply_along_axis(arr=np.array(range(0, 10)), func1d=each_k, axis=0).sum()\n",
    "        python_np_time_lst.append(time.time() - start_time)\n",
    "\n",
    "    ### plotting     \n",
    "    df = pd.DataFrame({\n",
    "        \"spark\":spark_time_lst.copy(), \n",
    "        \"pure python\":python_time_lst.copy(), \n",
    "        \"python with numpy\":python_np_time_lst.copy()\n",
    "    }, index = [5000*i for i in range(0, 10)])\n",
    "    plt.figure(figsize=(12, 6))\n",
    "    plt.plot(df['spark'], 'ro-'), plt.plot(df['pure python'], 'bo-'), plt.plot(df['python with numpy'], 'go-')\n",
    "    plt.legend(fontsize=25)\n",
    "    plt.xticks([5000*i for i in range(0, 10)], [5000*i for i in range(0, 10)])\n",
    "    img = BytesIO()\n",
    "    plt.savefig(img, format='png',dpi =200)\n",
    "    img.seek(0)\n",
    "    return 0\n",
    "    # return send_file(img, mimetype='image/png')\n",
    "   # plt.show()\n",
    "# if __name__ == '__main__':\n",
    "#     app.run(debug=False)"
   ]
  },
  {
   "cell_type": "code",
   "execution_count": 4,
   "id": "077bcbe4",
   "metadata": {
    "scrolled": true
   },
   "outputs": [
    {
     "name": "stderr",
     "output_type": "stream",
     "text": [
      "No handles with labels found to put in legend.\n"
     ]
    },
    {
     "ename": "NameError",
     "evalue": "name 'send_file' is not defined",
     "output_type": "error",
     "traceback": [
      "\u001b[0;31m---------------------------------------------------------------------------\u001b[0m",
      "\u001b[0;31mNameError\u001b[0m                                 Traceback (most recent call last)",
      "\u001b[0;32m<ipython-input-4-d5d94929e56b>\u001b[0m in \u001b[0;36m<module>\u001b[0;34m\u001b[0m\n\u001b[0;32m----> 1\u001b[0;31m \u001b[0mfig\u001b[0m\u001b[0;34m(\u001b[0m\u001b[0;34m)\u001b[0m\u001b[0;34m\u001b[0m\u001b[0;34m\u001b[0m\u001b[0m\n\u001b[0m",
      "\u001b[0;32m<ipython-input-3-2dd5c4dfd5d6>\u001b[0m in \u001b[0;36mfig\u001b[0;34m()\u001b[0m\n\u001b[1;32m     57\u001b[0m     \u001b[0mplt\u001b[0m\u001b[0;34m.\u001b[0m\u001b[0msavefig\u001b[0m\u001b[0;34m(\u001b[0m\u001b[0mimg\u001b[0m\u001b[0;34m,\u001b[0m \u001b[0mformat\u001b[0m\u001b[0;34m=\u001b[0m\u001b[0;34m'png'\u001b[0m\u001b[0;34m,\u001b[0m\u001b[0mdpi\u001b[0m \u001b[0;34m=\u001b[0m\u001b[0;36m200\u001b[0m\u001b[0;34m)\u001b[0m\u001b[0;34m\u001b[0m\u001b[0;34m\u001b[0m\u001b[0m\n\u001b[1;32m     58\u001b[0m     \u001b[0mimg\u001b[0m\u001b[0;34m.\u001b[0m\u001b[0mseek\u001b[0m\u001b[0;34m(\u001b[0m\u001b[0;36m0\u001b[0m\u001b[0;34m)\u001b[0m\u001b[0;34m\u001b[0m\u001b[0;34m\u001b[0m\u001b[0m\n\u001b[0;32m---> 59\u001b[0;31m     \u001b[0;32mreturn\u001b[0m \u001b[0msend_file\u001b[0m\u001b[0;34m(\u001b[0m\u001b[0mimg\u001b[0m\u001b[0;34m,\u001b[0m \u001b[0mmimetype\u001b[0m\u001b[0;34m=\u001b[0m\u001b[0;34m'image/png'\u001b[0m\u001b[0;34m)\u001b[0m\u001b[0;34m\u001b[0m\u001b[0;34m\u001b[0m\u001b[0m\n\u001b[0m\u001b[1;32m     60\u001b[0m    \u001b[0;31m# plt.show()\u001b[0m\u001b[0;34m\u001b[0m\u001b[0;34m\u001b[0m\u001b[0;34m\u001b[0m\u001b[0m\n\u001b[1;32m     61\u001b[0m \u001b[0;31m# if __name__ == '__main__':\u001b[0m\u001b[0;34m\u001b[0m\u001b[0;34m\u001b[0m\u001b[0;34m\u001b[0m\u001b[0m\n",
      "\u001b[0;31mNameError\u001b[0m: name 'send_file' is not defined"
     ]
    },
    {
     "data": {
      "image/png": "[encoded data removed]",
      "text/plain": [
       "<Figure size 864x432 with 1 Axes>"
      ]
     },
     "metadata": {
      "needs_background": "light"
     },
     "output_type": "display_data"
    }
   ],
   "source": [
    "fig()"
   ]
  }
 ],
 "metadata": {
  "kernelspec": {
   "display_name": "Python 3",
   "language": "python",
   "name": "python3"
  },
  "language_info": {
   "codemirror_mode": {
    "name": "ipython",
    "version": 3
   },
   "file_extension": ".py",
   "mimetype": "text/x-python",
   "name": "python",
   "nbconvert_exporter": "python",
   "pygments_lexer": "ipython3",
   "version": "3.8.6"
  }
 },
 "nbformat": 4,
 "nbformat_minor": 5
}
