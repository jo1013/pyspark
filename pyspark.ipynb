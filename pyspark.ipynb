{
 "cells": [
  {
   "cell_type": "code",
   "execution_count": 1,
   "id": "c0a46d13",
   "metadata": {},
   "outputs": [],
   "source": [
    "## 필요한 라이브러리를 불러옵니다. \n",
    "import time\n",
    "import matplotlib.pyplot as plt\n",
    "import numpy as np \n",
    "import pandas as pd\n",
    "from flask import Flask, send_file\n",
    "import redis\n",
    "\n",
    "## pyspark를 불러옵니다.\n",
    "from pyspark import SparkContext"
   ]
  },
  {
   "cell_type": "code",
   "execution_count": 2,
   "id": "56898719",
   "metadata": {},
   "outputs": [],
   "source": [
    "sc = SparkContext(master=\"local\", appName=\"first app\")"
   ]
  },
  {
   "cell_type": "code",
   "execution_count": 3,
   "id": "2a0667aa",
   "metadata": {},
   "outputs": [],
   "source": [
    "app = Flask(__name__, static_url_path='/static')"
   ]
  },
  {
   "cell_type": "code",
   "execution_count": 4,
   "id": "35a91057",
   "metadata": {
    "scrolled": true
   },
   "outputs": [
    {
     "name": "stdout",
     "output_type": "stream",
     "text": [
      " * Serving Flask app '__main__' (lazy loading)\n",
      " * Environment: production\n",
      "\u001b[31m   WARNING: This is a development server. Do not use it in a production deployment.\u001b[0m\n",
      "\u001b[2m   Use a production WSGI server instead.\u001b[0m\n",
      " * Debug mode: off\n"
     ]
    },
    {
     "name": "stderr",
     "output_type": "stream",
     "text": [
      " * Running on http://127.0.0.1:5000/ (Press CTRL+C to quit)\n"
     ]
    }
   ],
   "source": [
    "@app.route('/')\n",
    "def fig():\n",
    "    if sc is None: \n",
    "        sc = SparkContext(master=\"local\", appName=\"first app\")\n",
    "    else:\n",
    "        sc.stop()\n",
    "        sc = SparkContext(master=\"local\", appName=\"first app\")\n",
    "\n",
    "## 이미 spark context가 살아 있으면 죽이고, 있으면 그대로 사용합니다. \n",
    "## spark context는 한 번에 여러 개 돌리려면 세팅에 몇 개를 추가해야 한다.\n",
    "## 또한 스파크 컨텍스트를 제대로 구현하려면 여기에 넘겨야 하는 값들이 많이 있다. 하지만 간소하게 구현 \n",
    "    if sc is None: \n",
    "        sc = SparkContext(master=\"local\", appName=\"first app\")\n",
    "    else:\n",
    "        sc.stop()\n",
    "        sc = SparkContext(master=\"local\", appName=\"first app\")\n",
    "\n",
    "    ### peformance check \n",
    "    spark_time_lst = []\n",
    "    python_time_lst = []\n",
    "    python_np_time_lst = []\n",
    "    \n",
    "    n_lst = [20000*i for i in range(0, 10)]\n",
    "    \n",
    "    \n",
    "    for n in n_lst:\n",
    "        def each_k(k):\n",
    "            return 1/(16**k)*( 4/(8*k+1) - 2/(8*k+4) - 1/(8*k+5) - 1/(8*k+6))\n",
    "        ## with spark \n",
    "        start_time = time.time()\n",
    "        pi_approximated = sc.parallelize(range(0, n)).map(each_k).sum()\n",
    "        spark_time_lst.append(time.time()-start_time)\n",
    "        ## pure python\n",
    "        start_time = time.time()\n",
    "        pi_approximated = sum((each_k(k) for k in range(0, n)))\n",
    "        python_time_lst.append(time.time()-start_time)\n",
    "        ## with numpy \n",
    "        start_time = time.time()\n",
    "        pi_approximated = np.apply_along_axis(arr=np.array(range(0, 10)), func1d=each_k, axis=0).sum()\n",
    "        python_np_time_lst.append(time.time() - start_time)\n",
    "\n",
    "    ### plotting     \n",
    "    df = pd.DataFrame({\n",
    "        \"spark\":spark_time_lst.copy(), \n",
    "        \"pure python\":python_time_lst.copy(), \n",
    "        \"python with numpy\":python_np_time_lst.copy()\n",
    "    }, index = [20000*i for i in range(0, 10)])\n",
    "    plt.figure(figsize=(12, 6))\n",
    "    plt.plot(df['spark'], 'ro-'), plt.plot(df['pure python'], 'bo-'), plt.plot(df['python with numpy'], 'go-')\n",
    "    plt.legend(fontsize=25)\n",
    "    plt.xticks([20000*i for i in range(0, 10)], [20000*i for i in range(0, 10)])\n",
    "    img = ByteIO()\n",
    "    plt.savefig(img, format='png',dpi =200)\n",
    "    img.seek(0)\n",
    "    return send_file(img, mimetype='image/png')\n",
    "   # plt.show()\n",
    "if __name__ == '__main__':\n",
    "    app.run(debug=False)"
   ]
  }
 ],
 "metadata": {
  "kernelspec": {
   "display_name": "Python 3",
   "language": "python",
   "name": "python3"
  },
  "language_info": {
   "codemirror_mode": {
    "name": "ipython",
    "version": 3
   },
   "file_extension": ".py",
   "mimetype": "text/x-python",
   "name": "python",
   "nbconvert_exporter": "python",
   "pygments_lexer": "ipython3",
   "version": "3.9.4"
  }
 },
 "nbformat": 4,
 "nbformat_minor": 5
}
