{
 "cells": [
  {
   "cell_type": "code",
   "execution_count": 1,
   "id": "c0a46d13",
   "metadata": {},
   "outputs": [],
   "source": [
    "## 필요한 라이브러리를 불러옵니다. \n",
    "import time\n",
    "import matplotlib.pyplot as plt\n",
    "import numpy as np \n",
    "import pandas as pd\n",
    "from flask import Flask, send_file\n",
    "import redis\n",
    "\n",
    "## pyspark를 불러옵니다.\n",
    "from pyspark import SparkContext\n",
    "\n",
    "## 이미 spark context가 살아 있으면 죽이고, 있으면 그대로 사용합니다. \n",
    "## spark context는 한 번에 여러 개 돌리려면 세팅에 몇 개를 추가해야 하는것 같아요. \n",
    "## 또한 스파크 컨텍스트를 제대로 구현하려면 여기에 넘겨야 하는 값들이 많이 있습니다만, 저는 테스트만 하려고 해서 이걸 대충 세팅했습니다. \n"
   ]
  },
  {
   "cell_type": "code",
   "execution_count": 2,
   "id": "6cdab290",
   "metadata": {
    "scrolled": true
   },
   "outputs": [],
   "source": [
    "# from flask import Flask, send_file\n",
    "\n",
    "# from io import BytesIO, StringIO\n",
    "# import numpy as np \n",
    "\n",
    "# ## macOS의 경우 아래 순서에 따라서 library를 import해줘야 에러없이 잘 됩니다. \n",
    "# import matplotlib\n",
    "# matplotlib.use('Agg')\n",
    "# import matplotlib.pyplot as plt\n",
    "# #################\n",
    "\n",
    "# app = Flask(__name__, static_url_path='/static')\n",
    "\n",
    "# ## mean, var를 url에서 입력받아서 적합한 그림 파일을 만들어준다. \n",
    "# ## url주소와 함수 이름은 같아야 함\n",
    "# ## url의 argument와 함수의 argument는 같아야 함\n",
    "# @app.route('/fig/<int:mean>_<int:var>')\n",
    "# def fig(mean, var):\n",
    "#   plt.figure(figsize=(4, 3))\n",
    "#   ## url에서 입력받은 mean, var를 그대로 사용하여 random sampling\n",
    "#   xs = np.random.normal(mean, var, 100)\n",
    "#   ys = np.random.normal(mean, var, 100)\n",
    "#   plt.scatter(xs, ys, s=100, marker='h', color='red', alpha=0.3)\n",
    "#   ## file로 저장하는 것이 아니라 binary object에 저장해서 그대로 file을 넘겨준다고 생각하면 됨\n",
    "#   ## binary object에 값을 저장한다. \n",
    "#   ## svg로 저장할 수도 있으나, 이 경우 html에서 다른 방식으로 저장해줘야 하기 때문에 일단은 png로 저장해줌\n",
    "#   img = BytesIO()\n",
    "#   plt.savefig(img, format='png', dpi=200)\n",
    "#   ## object를 읽었기 때문에 처음으로 돌아가줌\n",
    "#   img.seek(0)\n",
    "#   return send_file(img, mimetype='image/png')\n",
    "  \n",
    "#   # plt.savefig(img, format='svg')\n",
    "#   # return send_file(img, mimetype='image/svg')\n",
    "\n",
    "# if __name__ == '__main__':\n",
    "#   app.run(debug=True)"
   ]
  },
  {
   "cell_type": "code",
   "execution_count": 3,
   "id": "56898719",
   "metadata": {},
   "outputs": [],
   "source": [
    "sc = SparkContext(master=\"local\", appName=\"first app\")"
   ]
  },
  {
   "cell_type": "code",
   "execution_count": 4,
   "id": "2a0667aa",
   "metadata": {},
   "outputs": [],
   "source": [
    "app = Flask(__name__, static_url_path='/static')"
   ]
  },
  {
   "cell_type": "code",
   "execution_count": 5,
   "id": "35a91057",
   "metadata": {
    "scrolled": true
   },
   "outputs": [
    {
     "name": "stdout",
     "output_type": "stream",
     "text": [
      " * Serving Flask app '__main__' (lazy loading)\n",
      " * Environment: production\n",
      "\u001b[31m   WARNING: This is a development server. Do not use it in a production deployment.\u001b[0m\n",
      "\u001b[2m   Use a production WSGI server instead.\u001b[0m\n",
      " * Debug mode: on\n"
     ]
    },
    {
     "name": "stderr",
     "output_type": "stream",
     "text": [
      " * Running on http://127.0.0.1:5000/ (Press CTRL+C to quit)\n",
      " * Restarting with stat\n"
     ]
    },
    {
     "ename": "SystemExit",
     "evalue": "1",
     "output_type": "error",
     "traceback": [
      "An exception has occurred, use %tb to see the full traceback.\n",
      "\u001b[0;31mSystemExit\u001b[0m\u001b[0;31m:\u001b[0m 1\n"
     ]
    },
    {
     "name": "stderr",
     "output_type": "stream",
     "text": [
      "/opt/conda/lib/python3.9/site-packages/IPython/core/interactiveshell.py:3449: UserWarning: To exit: use 'exit', 'quit', or Ctrl-D.\n",
      "  warn(\"To exit: use 'exit', 'quit', or Ctrl-D.\", stacklevel=1)\n"
     ]
    }
   ],
   "source": [
    "@app.route('/')\n",
    "def fig():\n",
    "    if sc is None: \n",
    "        sc = SparkContext(master=\"local\", appName=\"first app\")\n",
    "    else:\n",
    "        sc.stop()\n",
    "        sc = SparkContext(master=\"local\", appName=\"first app\")\n",
    "\n",
    "## 이미 spark context가 살아 있으면 죽이고, 있으면 그대로 사용합니다. \n",
    "## spark context는 한 번에 여러 개 돌리려면 세팅에 몇 개를 추가해야 하는것 같아요. \n",
    "## 또한 스파크 컨텍스트를 제대로 구현하려면 여기에 넘겨야 하는 값들이 많이 있습니다만, 저는 테스트만 하려고 해서 이걸 대충 세팅했습니다. \n",
    "    if sc is None: \n",
    "        sc = SparkContext(master=\"local\", appName=\"first app\")\n",
    "    else:\n",
    "        sc.stop()\n",
    "        sc = SparkContext(master=\"local\", appName=\"first app\")\n",
    "\n",
    "    ### peformance check \n",
    "    spark_time_lst = []\n",
    "    python_time_lst = []\n",
    "    python_np_time_lst = []\n",
    "    n_lst = [20000*i for i in range(0, 10)]\n",
    "    for n in n_lst:\n",
    "        def each_k(k):\n",
    "            return 1/(16**k)*( 4/(8*k+1) - 2/(8*k+4) - 1/(8*k+5) - 1/(8*k+6))\n",
    "        ## with spark \n",
    "        start_time = time.time()\n",
    "        pi_approximated = sc.parallelize(range(0, n)).map(each_k).sum()\n",
    "        spark_time_lst.append(time.time()-start_time)\n",
    "        ## pure python\n",
    "        start_time = time.time()\n",
    "        pi_approximated = sum((each_k(k) for k in range(0, n)))\n",
    "        python_time_lst.append(time.time()-start_time)\n",
    "        ## with numpy \n",
    "        start_time = time.time()\n",
    "        pi_approximated = np.apply_along_axis(arr=np.array(range(0, 10)), func1d=each_k, axis=0).sum()\n",
    "        python_np_time_lst.append(time.time() - start_time)\n",
    "\n",
    "    ### plotting     \n",
    "    df = pd.DataFrame({\n",
    "        \"spark\":spark_time_lst.copy(), \n",
    "        \"pure python\":python_time_lst.copy(), \n",
    "        \"python with numpy\":python_np_time_lst.copy()\n",
    "    }, index = [20000*i for i in range(0, 10)])\n",
    "    plt.figure(figsize=(12, 6))\n",
    "    plt.plot(df['spark'], 'ro-'), plt.plot(df['pure python'], 'bo-'), plt.plot(df['python with numpy'], 'go-')\n",
    "    plt.legend(fontsize=25)\n",
    "    plt.xticks([20000*i for i in range(0, 10)], [20000*i for i in range(0, 10)])\n",
    "    img = ByteIO()\n",
    "    plt.savefig(img, format='png',dpi =200)\n",
    "    img.seek(0)\n",
    "    return send_file(img, mimetype='image/png')\n",
    "   # plt.show()\n",
    "if __name__ == '__main__':\n",
    "    app.run(debug=False)"
   ]
  },
  {
   "cell_type": "code",
   "execution_count": 6,
   "id": "bb6eb025",
   "metadata": {},
   "outputs": [
    {
     "ename": "SystemExit",
     "evalue": "1",
     "output_type": "error",
     "traceback": [
      "\u001b[0;31m---------------------------------------------------------------------------\u001b[0m",
      "\u001b[0;31mSystemExit\u001b[0m                                Traceback (most recent call last)",
      "\u001b[0;32m<ipython-input-5-886f895855e1>\u001b[0m in \u001b[0;36m<module>\u001b[0;34m\u001b[0m\n\u001b[1;32m     53\u001b[0m    \u001b[0;31m# plt.show()\u001b[0m\u001b[0;34m\u001b[0m\u001b[0;34m\u001b[0m\u001b[0;34m\u001b[0m\u001b[0m\n\u001b[1;32m     54\u001b[0m \u001b[0;32mif\u001b[0m \u001b[0m__name__\u001b[0m \u001b[0;34m==\u001b[0m \u001b[0;34m'__main__'\u001b[0m\u001b[0;34m:\u001b[0m\u001b[0;34m\u001b[0m\u001b[0;34m\u001b[0m\u001b[0m\n\u001b[0;32m---> 55\u001b[0;31m     \u001b[0mapp\u001b[0m\u001b[0;34m.\u001b[0m\u001b[0mrun\u001b[0m\u001b[0;34m(\u001b[0m\u001b[0mdebug\u001b[0m\u001b[0;34m=\u001b[0m\u001b[0;32mTrue\u001b[0m\u001b[0;34m)\u001b[0m\u001b[0;34m\u001b[0m\u001b[0;34m\u001b[0m\u001b[0m\n\u001b[0m",
      "\u001b[0;32m/opt/conda/lib/python3.9/site-packages/flask/app.py\u001b[0m in \u001b[0;36mrun\u001b[0;34m(self, host, port, debug, load_dotenv, **options)\u001b[0m\n\u001b[1;32m    920\u001b[0m \u001b[0;34m\u001b[0m\u001b[0m\n\u001b[1;32m    921\u001b[0m         \u001b[0;32mtry\u001b[0m\u001b[0;34m:\u001b[0m\u001b[0;34m\u001b[0m\u001b[0;34m\u001b[0m\u001b[0m\n\u001b[0;32m--> 922\u001b[0;31m             \u001b[0mrun_simple\u001b[0m\u001b[0;34m(\u001b[0m\u001b[0mt\u001b[0m\u001b[0;34m.\u001b[0m\u001b[0mcast\u001b[0m\u001b[0;34m(\u001b[0m\u001b[0mstr\u001b[0m\u001b[0;34m,\u001b[0m \u001b[0mhost\u001b[0m\u001b[0;34m)\u001b[0m\u001b[0;34m,\u001b[0m \u001b[0mport\u001b[0m\u001b[0;34m,\u001b[0m \u001b[0mself\u001b[0m\u001b[0;34m,\u001b[0m \u001b[0;34m**\u001b[0m\u001b[0moptions\u001b[0m\u001b[0;34m)\u001b[0m\u001b[0;34m\u001b[0m\u001b[0;34m\u001b[0m\u001b[0m\n\u001b[0m\u001b[1;32m    923\u001b[0m         \u001b[0;32mfinally\u001b[0m\u001b[0;34m:\u001b[0m\u001b[0;34m\u001b[0m\u001b[0;34m\u001b[0m\u001b[0m\n\u001b[1;32m    924\u001b[0m             \u001b[0;31m# reset the first request information if the development server\u001b[0m\u001b[0;34m\u001b[0m\u001b[0;34m\u001b[0m\u001b[0;34m\u001b[0m\u001b[0m\n",
      "\u001b[0;32m/opt/conda/lib/python3.9/site-packages/werkzeug/serving.py\u001b[0m in \u001b[0;36mrun_simple\u001b[0;34m(hostname, port, application, use_reloader, use_debugger, use_evalex, extra_files, exclude_patterns, reloader_interval, reloader_type, threaded, processes, request_handler, static_files, passthrough_errors, ssl_context)\u001b[0m\n\u001b[1;32m    998\u001b[0m         \u001b[0;32mfrom\u001b[0m \u001b[0;34m.\u001b[0m\u001b[0m_reloader\u001b[0m \u001b[0;32mimport\u001b[0m \u001b[0mrun_with_reloader\u001b[0m \u001b[0;32mas\u001b[0m \u001b[0m_rwr\u001b[0m\u001b[0;34m\u001b[0m\u001b[0;34m\u001b[0m\u001b[0m\n\u001b[1;32m    999\u001b[0m \u001b[0;34m\u001b[0m\u001b[0m\n\u001b[0;32m-> 1000\u001b[0;31m         _rwr(\n\u001b[0m\u001b[1;32m   1001\u001b[0m             \u001b[0minner\u001b[0m\u001b[0;34m,\u001b[0m\u001b[0;34m\u001b[0m\u001b[0;34m\u001b[0m\u001b[0m\n\u001b[1;32m   1002\u001b[0m             \u001b[0mextra_files\u001b[0m\u001b[0;34m=\u001b[0m\u001b[0mextra_files\u001b[0m\u001b[0;34m,\u001b[0m\u001b[0;34m\u001b[0m\u001b[0;34m\u001b[0m\u001b[0m\n",
      "\u001b[0;32m/opt/conda/lib/python3.9/site-packages/werkzeug/_reloader.py\u001b[0m in \u001b[0;36mrun_with_reloader\u001b[0;34m(main_func, extra_files, exclude_patterns, interval, reloader_type)\u001b[0m\n\u001b[1;32m    426\u001b[0m                 \u001b[0mreloader\u001b[0m\u001b[0;34m.\u001b[0m\u001b[0mrun\u001b[0m\u001b[0;34m(\u001b[0m\u001b[0;34m)\u001b[0m\u001b[0;34m\u001b[0m\u001b[0;34m\u001b[0m\u001b[0m\n\u001b[1;32m    427\u001b[0m         \u001b[0;32melse\u001b[0m\u001b[0;34m:\u001b[0m\u001b[0;34m\u001b[0m\u001b[0;34m\u001b[0m\u001b[0m\n\u001b[0;32m--> 428\u001b[0;31m             \u001b[0msys\u001b[0m\u001b[0;34m.\u001b[0m\u001b[0mexit\u001b[0m\u001b[0;34m(\u001b[0m\u001b[0mreloader\u001b[0m\u001b[0;34m.\u001b[0m\u001b[0mrestart_with_reloader\u001b[0m\u001b[0;34m(\u001b[0m\u001b[0;34m)\u001b[0m\u001b[0;34m)\u001b[0m\u001b[0;34m\u001b[0m\u001b[0;34m\u001b[0m\u001b[0m\n\u001b[0m\u001b[1;32m    429\u001b[0m     \u001b[0;32mexcept\u001b[0m \u001b[0mKeyboardInterrupt\u001b[0m\u001b[0;34m:\u001b[0m\u001b[0;34m\u001b[0m\u001b[0;34m\u001b[0m\u001b[0m\n\u001b[1;32m    430\u001b[0m         \u001b[0;32mpass\u001b[0m\u001b[0;34m\u001b[0m\u001b[0;34m\u001b[0m\u001b[0m\n",
      "\u001b[0;31mSystemExit\u001b[0m: 1"
     ]
    }
   ],
   "source": []
  },
  {
   "cell_type": "code",
   "execution_count": null,
   "id": "7555dd29",
   "metadata": {},
   "outputs": [],
   "source": []
  },
  {
   "cell_type": "code",
   "execution_count": null,
   "id": "ff9a9e9a",
   "metadata": {},
   "outputs": [],
   "source": [
    "\n",
    "if sc is None: \n",
    "    sc = SparkContext(master=\"local\", appName=\"first app\")\n",
    "else:\n",
    "    sc.stop()\n",
    "    sc = SparkContext(master=\"local\", appName=\"first app\")\n",
    "\n",
    "## 이미 spark context가 살아 있으면 죽이고, 있으면 그대로 사용합니다. \n",
    "## spark context는 한 번에 여러 개 돌리려면 세팅에 몇 개를 추가해야 하는것 같아요. \n",
    "## 또한 스파크 컨텍스트를 제대로 구현하려면 여기에 넘겨야 하는 값들이 많이 있습니다만, 저는 테스트만 하려고 해서 이걸 대충 세팅했습니다. \n",
    "if sc is None: \n",
    "    sc = SparkContext(master=\"local\", appName=\"first app\")\n",
    "else:\n",
    "    sc.stop()\n",
    "    sc = SparkContext(master=\"local\", appName=\"first app\")\n"
   ]
  },
  {
   "cell_type": "code",
   "execution_count": null,
   "id": "1f3bbef5",
   "metadata": {},
   "outputs": [],
   "source": [
    "\n",
    "### peformance check \n",
    "spark_time_lst = []\n",
    "python_time_lst = []\n",
    "python_np_time_lst = []\n",
    "n_lst = [20000*i for i in range(0, 10)]\n"
   ]
  },
  {
   "cell_type": "code",
   "execution_count": null,
   "id": "8254526c",
   "metadata": {},
   "outputs": [],
   "source": [
    "for n in n_lst:\n",
    "    def each_k(k):\n",
    "        return 1/(16**k)*( 4/(8*k+1) - 2/(8*k+4) - 1/(8*k+5) - 1/(8*k+6))\n",
    "    ## with spark \n",
    "    start_time = time.time()\n",
    "    pi_approximated = sc.parallelize(range(0, n)).map(each_k).sum()\n",
    "    spark_time_lst.append(time.time()-start_time)\n",
    "    ## pure python\n",
    "    start_time = time.time()\n",
    "    pi_approximated = sum((each_k(k) for k in range(0, n)))\n",
    "    python_time_lst.append(time.time()-start_time)\n",
    "    ## with numpy \n",
    "    start_time = time.time()\n",
    "    pi_approximated = np.apply_along_axis(arr=np.array(range(0, 10)), func1d=each_k, axis=0).sum()\n",
    "    python_np_time_lst.append(time.time() - start_time)\n"
   ]
  },
  {
   "cell_type": "code",
   "execution_count": null,
   "id": "5e739bb6",
   "metadata": {},
   "outputs": [],
   "source": [
    "\n",
    "### plotting     \n",
    "df = pd.DataFrame({\n",
    "    \"spark\":spark_time_lst.copy(), \n",
    "    \"pure python\":python_time_lst.copy(), \n",
    "    \"python with numpy\":python_np_time_lst.copy()\n",
    "}, index = [20000*i for i in range(0, 10)])\n",
    "plt.figure(figsize=(12, 6))\n",
    "plt.plot(df['spark'], 'ro-'), plt.plot(df['pure python'], 'bo-'), plt.plot(df['python with numpy'], 'go-')\n",
    "plt.legend(fontsize=25)\n",
    "plt.xticks([20000*i for i in range(0, 10)], [20000*i for i in range(0, 10)])\n",
    "plt.savefig('/home/180831_pyspark_performance_check.svg')\n",
    "plt.show()"
   ]
  },
  {
   "cell_type": "code",
   "execution_count": null,
   "id": "c597cbc3",
   "metadata": {},
   "outputs": [],
   "source": [
    "!pwd"
   ]
  },
  {
   "cell_type": "code",
   "execution_count": null,
   "id": "48832f5e",
   "metadata": {},
   "outputs": [],
   "source": []
  }
 ],
 "metadata": {
  "kernelspec": {
   "display_name": "Python 3",
   "language": "python",
   "name": "python3"
  },
  "language_info": {
   "codemirror_mode": {
    "name": "ipython",
    "version": 3
   },
   "file_extension": ".py",
   "mimetype": "text/x-python",
   "name": "python",
   "nbconvert_exporter": "python",
   "pygments_lexer": "ipython3",
   "version": "3.9.4"
  }
 },
 "nbformat": 4,
 "nbformat_minor": 5
}
