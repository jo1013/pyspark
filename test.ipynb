{
 "cells": [
  {
   "cell_type": "code",
   "execution_count": 12,
   "id": "0ff09419",
   "metadata": {},
   "outputs": [
    {
     "ename": "AttributeError",
     "evalue": "'Builder' object has no attribute 'encoding'",
     "output_type": "error",
     "traceback": [
      "\u001b[0;31m---------------------------------------------------------------------------\u001b[0m",
      "\u001b[0;31mAttributeError\u001b[0m                            Traceback (most recent call last)",
      "\u001b[0;32m<ipython-input-12-9d53fbc99292>\u001b[0m in \u001b[0;36m<module>\u001b[0;34m\u001b[0m\n\u001b[1;32m      2\u001b[0m \u001b[0;32mfrom\u001b[0m \u001b[0mpyspark\u001b[0m\u001b[0;34m.\u001b[0m\u001b[0msql\u001b[0m \u001b[0;32mimport\u001b[0m \u001b[0mSQLContext\u001b[0m\u001b[0;34m\u001b[0m\u001b[0;34m\u001b[0m\u001b[0m\n\u001b[1;32m      3\u001b[0m \u001b[0;32mif\u001b[0m \u001b[0m__name__\u001b[0m \u001b[0;34m==\u001b[0m \u001b[0;34m'__main__'\u001b[0m\u001b[0;34m:\u001b[0m\u001b[0;34m\u001b[0m\u001b[0;34m\u001b[0m\u001b[0m\n\u001b[0;32m----> 4\u001b[0;31m     \u001b[0mscSpark\u001b[0m \u001b[0;34m=\u001b[0m \u001b[0mSparkSession\u001b[0m\u001b[0;31m \u001b[0m\u001b[0;31m\\\u001b[0m\u001b[0;34m\u001b[0m\u001b[0;34m\u001b[0m\u001b[0m\n\u001b[0m\u001b[1;32m      5\u001b[0m         \u001b[0;34m.\u001b[0m\u001b[0mbuilder\u001b[0m\u001b[0;31m \u001b[0m\u001b[0;31m\\\u001b[0m\u001b[0;34m\u001b[0m\u001b[0;34m\u001b[0m\u001b[0m\n\u001b[1;32m      6\u001b[0m         \u001b[0;34m.\u001b[0m\u001b[0mappName\u001b[0m\u001b[0;34m(\u001b[0m\u001b[0;34m\"reading csv\"\u001b[0m\u001b[0;34m)\u001b[0m\u001b[0;31m \u001b[0m\u001b[0;31m\\\u001b[0m\u001b[0;34m\u001b[0m\u001b[0;34m\u001b[0m\u001b[0m\n",
      "\u001b[0;31mAttributeError\u001b[0m: 'Builder' object has no attribute 'encoding'"
     ]
    }
   ],
   "source": [
    "from pyspark.sql import SparkSession\n",
    "from pyspark.sql import SQLContext\n",
    "if __name__ == '__main__':\n",
    "    scSpark = SparkSession \\\n",
    "        .builder \\\n",
    "        .appName(\"reading csv\") \\\n",
    "        .getOrCreate()"
   ]
  },
  {
   "cell_type": "code",
   "execution_count": 14,
   "id": "65e9b483",
   "metadata": {},
   "outputs": [
    {
     "name": "stdout",
     "output_type": "stream",
     "text": [
      "Total Records = 9147\n",
      "+----+---------------+----------+--------+---------------+--------+---------------+------+--------+---------------+\n",
      "|연도|대상사고 구분명|법정동코드|사고건수|사고건수 구성비|사망자수|사망자수 구성비|치사율|부상자수|부상자수 구성비|\n",
      "+----+---------------+----------+--------+---------------+--------+---------------+------+--------+---------------+\n",
      "|2012|     어린이사고|      1101|      37|            0.3|       0|              0|     0|      60|           0.39|\n",
      "|2012|       노인사고|      1101|     144|           0.51|       4|           0.21|  2.78|     149|            0.5|\n",
      "|2012|     보행자사고|      1101|     405|           0.79|       9|           0.44|  2.22|     412|            0.8|\n",
      "|2012|     자전거사고|      1101|      53|           0.41|       0|              0|     0|      55|           0.42|\n",
      "|2012|       야간사고|      1101|     677|           0.63|       6|           0.21|  0.89|    1015|           0.61|\n",
      "|2012|     어린이사고|      1102|      28|           0.22|       0|              0|     0|      36|           0.23|\n",
      "|2012|       노인사고|      1102|     143|           0.51|       5|           0.27|   3.5|     143|           0.48|\n",
      "|2012|     보행자사고|      1102|     383|           0.75|       8|           0.39|  2.09|     392|           0.76|\n",
      "|2012|     자전거사고|      1102|      30|           0.23|       0|              0|     0|      31|           0.24|\n",
      "|2012|       야간사고|      1102|     699|           0.65|       9|           0.32|  1.29|    1030|           0.62|\n",
      "|2012|     어린이사고|      1103|      32|           0.26|       0|              0|     0|      37|           0.24|\n",
      "|2012|       노인사고|      1103|     119|           0.42|       2|           0.11|  1.68|     121|           0.41|\n",
      "|2012|     보행자사고|      1103|     267|           0.52|       6|            0.3|  2.25|     274|           0.53|\n",
      "|2012|     자전거사고|      1103|      51|            0.4|       0|              0|     0|      53|            0.4|\n",
      "|2012|       야간사고|      1103|     593|           0.55|       6|           0.21|  1.01|     940|           0.57|\n",
      "|2012|     어린이사고|      1104|      27|           0.22|       0|              0|     0|      31|            0.2|\n",
      "|2012|       노인사고|      1104|     106|           0.38|       0|              0|     0|     111|           0.37|\n",
      "|2012|     보행자사고|      1104|     215|           0.42|       4|            0.2|  1.86|     223|           0.43|\n",
      "|2012|     자전거사고|      1104|      91|            0.7|       0|              0|     0|     101|           0.77|\n",
      "|2012|       야간사고|      1104|     483|           0.45|       6|           0.21|  1.24|     717|           0.43|\n",
      "+----+---------------+----------+--------+---------------+--------+---------------+------+--------+---------------+\n",
      "only showing top 20 rows\n",
      "\n"
     ]
    }
   ],
   "source": [
    "data_file = '12_19_stt.csv'\n",
    "sdfData = scSpark.read.csv(data_file, header=True, sep=\",\", encoding='euc-kr').cache()\n",
    "print('Total Records = {}'.format(sdfData.count()))\n",
    "sdfData.show()"
   ]
  },
  {
   "cell_type": "code",
   "execution_count": 15,
   "id": "2d8da052",
   "metadata": {},
   "outputs": [
    {
     "data": {
      "text/plain": [
       "pyspark.sql.dataframe.DataFrame"
      ]
     },
     "execution_count": 15,
     "metadata": {},
     "output_type": "execute_result"
    }
   ],
   "source": [
    "type(sdfData)"
   ]
  },
  {
   "cell_type": "code",
   "execution_count": 16,
   "id": "7876e3f5",
   "metadata": {},
   "outputs": [
    {
     "data": {
      "text/plain": [
       "'/home/pyspark'"
      ]
     },
     "execution_count": 16,
     "metadata": {},
     "output_type": "execute_result"
    }
   ],
   "source": [
    "pwd"
   ]
  },
  {
   "cell_type": "code",
   "execution_count": null,
   "id": "abde004c",
   "metadata": {},
   "outputs": [],
   "source": [
    "~"
   ]
  }
 ],
 "metadata": {
  "kernelspec": {
   "display_name": "Python 3",
   "language": "python",
   "name": "python3"
  },
  "language_info": {
   "codemirror_mode": {
    "name": "ipython",
    "version": 3
   },
   "file_extension": ".py",
   "mimetype": "text/x-python",
   "name": "python",
   "nbconvert_exporter": "python",
   "pygments_lexer": "ipython3",
   "version": "3.8.6"
  }
 },
 "nbformat": 4,
 "nbformat_minor": 5
}
